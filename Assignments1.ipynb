{
 "cells": [
  {
   "cell_type": "markdown",
   "metadata": {},
   "source": [
    "# 1. Calculate Area of Circle"
   ]
  },
  {
   "cell_type": "code",
   "execution_count": null,
   "metadata": {},
   "outputs": [],
   "source": [
    "# Write a Python program which accepts the radius of a circle from the user and compute the area. "
   ]
  },
  {
   "cell_type": "code",
   "execution_count": null,
   "metadata": {},
   "outputs": [],
   "source": [
    "rad = float(input(\"Enter Radius: \"))\n",
    "\n",
    "Area = 3.14 * (rad**2)\n",
    "\n",
    "print(\"Area of circle with radius\", rad, \"is\", Area)"
   ]
  },
  {
   "cell_type": "markdown",
   "metadata": {},
   "source": [
    "# 2. Check Number either positive, negative or zero "
   ]
  },
  {
   "cell_type": "code",
   "execution_count": null,
   "metadata": {},
   "outputs": [],
   "source": [
    "# Write a Python program to check if a number is positive, negative or zero "
   ]
  },
  {
   "cell_type": "code",
   "execution_count": 4,
   "metadata": {},
   "outputs": [
    {
     "name": "stdin",
     "output_type": "stream",
     "text": [
      "Enter a number:  0\n"
     ]
    },
    {
     "name": "stdout",
     "output_type": "stream",
     "text": [
      "You Entered Zero\n"
     ]
    }
   ],
   "source": [
    "num = int(input(\"Enter a number: \"))\n",
    "if num == 0:\n",
    "    print(\"You Entered Zero\")\n",
    "elif num > 0:\n",
    "    print(\"You Entered a Positive Number\")\n",
    "else:\n",
    "    print(\"You Entered a Negative Number\")"
   ]
  },
  {
   "cell_type": "markdown",
   "metadata": {},
   "source": [
    "# 3. Divisibility Check of two numbers "
   ]
  },
  {
   "cell_type": "code",
   "execution_count": null,
   "metadata": {},
   "outputs": [],
   "source": [
    "# Write a Python program to check whether a number is completely divisible\n",
    "# by another number. Accept two integer values form the use"
   ]
  },
  {
   "cell_type": "code",
   "execution_count": 8,
   "metadata": {},
   "outputs": [
    {
     "name": "stdin",
     "output_type": "stream",
     "text": [
      "Enter numerator 5\n",
      "Enter Denominator 2\n"
     ]
    },
    {
     "name": "stdout",
     "output_type": "stream",
     "text": [
      "5 is not completely divisible by 2\n"
     ]
    }
   ],
   "source": [
    "num1 = int(input(\"Enter numerator\"))\n",
    "num2 = int(input(\"Enter Denominator\"))\n",
    "\n",
    "if (num1 % num2) == 0:\n",
    "    print(num1, \"is completely divisible by\", num2)\n",
    "else:\n",
    "    print(num1, \"is not completely divisible by\", num2)"
   ]
  },
  {
   "cell_type": "markdown",
   "metadata": {},
   "source": [
    "# 4. Days Calculator "
   ]
  },
  {
   "cell_type": "code",
   "execution_count": null,
   "metadata": {},
   "outputs": [],
   "source": [
    "# Write a Python program to calculate number of days between two dates "
   ]
  },
  {
   "cell_type": "code",
   "execution_count": 4,
   "metadata": {},
   "outputs": [
    {
     "name": "stdin",
     "output_type": "stream",
     "text": [
      "Enter 1st date in (dd/mm/yy) format:  12/01/2020\n",
      "Enter 2nd date in (dd/mm/yy) format:  16/01/2020\n"
     ]
    },
    {
     "name": "stdout",
     "output_type": "stream",
     "text": [
      "There are 4 days in between 12/01/2020 and 16/01/2020\n"
     ]
    }
   ],
   "source": [
    "date1 = input(\"Enter 1st date in (dd/mm/yy) format: \")\n",
    "date2 = input(\"Enter 2nd date in (dd/mm/yy) format: \")\n",
    "\n",
    "day1 = int(date1[:2])\n",
    "day2 = int(date2[:2])\n",
    "\n",
    "totalDays = day2 - day1\n",
    "print(\"There are\", totalDays, \"days in between\", date1, \"and\", date2)"
   ]
  },
  {
   "cell_type": "markdown",
   "metadata": {},
   "source": [
    "# 5. Calculate Volume of a sphere "
   ]
  },
  {
   "cell_type": "code",
   "execution_count": null,
   "metadata": {},
   "outputs": [],
   "source": [
    "# Write a Python program to get the volume of a sphere, please take the radius as input from user"
   ]
  },
  {
   "cell_type": "code",
   "execution_count": 6,
   "metadata": {},
   "outputs": [
    {
     "name": "stdin",
     "output_type": "stream",
     "text": [
      "Enter Radius of Sphere:  1\n"
     ]
    },
    {
     "name": "stdout",
     "output_type": "stream",
     "text": [
      "Volume of sphere with radius 1.0 is 4.1866666666666665\n"
     ]
    }
   ],
   "source": [
    "rad = float(input(\"Enter Radius of Sphere: \"))\n",
    "\n",
    "v = (4/3) * ((3.14) * (rad ** 3))\n",
    "\n",
    "print(\"Volume of sphere with radius\", rad, \"is\", v)"
   ]
  },
  {
   "cell_type": "markdown",
   "metadata": {},
   "source": [
    "# 6. Copy string n times "
   ]
  },
  {
   "cell_type": "code",
   "execution_count": 7,
   "metadata": {},
   "outputs": [],
   "source": [
    "# Write a Python program to get a string which is n (non-negative integer) copies of a given string.  "
   ]
  },
  {
   "cell_type": "code",
   "execution_count": 14,
   "metadata": {},
   "outputs": [
    {
     "name": "stdin",
     "output_type": "stream",
     "text": [
      "Enter a String:  kamran\n",
      "How many copies of String you need:  5\n"
     ]
    },
    {
     "name": "stdout",
     "output_type": "stream",
     "text": [
      "5 Copies of String are kamrankamrankamrankamrankamran\n"
     ]
    }
   ],
   "source": [
    "string = input(\"Enter a String: \")\n",
    "copies = int(input(\"How many copies of String you need: \"))\n",
    "stringCopies = string * copies\n",
    "print(copies, \"Copies of String are\", stringCopies)"
   ]
  },
  {
   "cell_type": "markdown",
   "metadata": {},
   "source": [
    "# 7. Check if number is Even or Odd "
   ]
  },
  {
   "cell_type": "code",
   "execution_count": 16,
   "metadata": {},
   "outputs": [],
   "source": [
    "# Write a Python program to find whether a given number (accept from the user)\n",
    "# is even or odd, print out an appropriate message to the user "
   ]
  },
  {
   "cell_type": "code",
   "execution_count": 19,
   "metadata": {},
   "outputs": [
    {
     "name": "stdin",
     "output_type": "stream",
     "text": [
      "Enter a number:  9\n"
     ]
    },
    {
     "name": "stdout",
     "output_type": "stream",
     "text": [
      "9 is Odd\n"
     ]
    }
   ],
   "source": [
    "num = int(input(\"Enter a number: \"))\n",
    "\n",
    "if num % 2 == 0:\n",
    "    print(num, \"is Even\")\n",
    "else:\n",
    "    print(num, \"is Odd\")"
   ]
  },
  {
   "cell_type": "markdown",
   "metadata": {},
   "source": [
    "# 8. Vowel Tester"
   ]
  },
  {
   "cell_type": "code",
   "execution_count": 21,
   "metadata": {},
   "outputs": [],
   "source": [
    "# Write a Python program to test whether a passed letter is a vowel or not"
   ]
  },
  {
   "cell_type": "code",
   "execution_count": 31,
   "metadata": {},
   "outputs": [
    {
     "name": "stdin",
     "output_type": "stream",
     "text": [
      "Enter a character:  i\n"
     ]
    },
    {
     "name": "stdout",
     "output_type": "stream",
     "text": [
      "i is a Vowel\n"
     ]
    }
   ],
   "source": [
    "vowels = ['a', 'e' ,'o' ,'i', 'u', 'A', 'E', 'O', 'I', 'U']\n",
    "letter = input(\"Enter a character: \")\n",
    "\n",
    "if letter in vowels:\n",
    "    print(letter, \"is a Vowel\")\n",
    "else:\n",
    "    print(letter, \"is not a Vowel\")"
   ]
  },
  {
   "cell_type": "markdown",
   "metadata": {},
   "source": [
    "# 9. Triangle area"
   ]
  },
  {
   "cell_type": "code",
   "execution_count": null,
   "metadata": {},
   "outputs": [],
   "source": [
    "# Write a Python program that will accept the base and height of a triangle and compute the area "
   ]
  },
  {
   "cell_type": "code",
   "execution_count": 10,
   "metadata": {},
   "outputs": [
    {
     "name": "stdin",
     "output_type": "stream",
     "text": [
      "Enter base of triangle:  67\n",
      "Enter height of triangle:  67\n"
     ]
    },
    {
     "name": "stdout",
     "output_type": "stream",
     "text": [
      "Area of Triangle is 2244.5\n"
     ]
    }
   ],
   "source": [
    "b = int(input(\"Enter base of triangle: \"))\n",
    "h = int(input(\"Enter height of triangle: \"))\n",
    "area = (b * h) / 2\n",
    "print(\"Area of Triangle is\", area)"
   ]
  },
  {
   "cell_type": "markdown",
   "metadata": {},
   "source": [
    "# 12. Feet to Centimeter Converter"
   ]
  },
  {
   "cell_type": "code",
   "execution_count": null,
   "metadata": {},
   "outputs": [],
   "source": [
    "# 12. Write a Python program to convert height in feet to centimetres. "
   ]
  },
  {
   "cell_type": "code",
   "execution_count": 21,
   "metadata": {},
   "outputs": [
    {
     "name": "stdin",
     "output_type": "stream",
     "text": [
      "Enter Height in Feet:  5\n"
     ]
    },
    {
     "name": "stdout",
     "output_type": "stream",
     "text": [
      "There are 152.4 Centimeters in 5.0 Feet\n"
     ]
    }
   ],
   "source": [
    "ft = float(input(\"Enter Height in Feet: \"))\n",
    "cm = ft * 30.48\n",
    "print(\"There are\", cm, \"Centimeters in\", ft, \"Feet\")"
   ]
  },
  {
   "cell_type": "markdown",
   "metadata": {},
   "source": [
    "# 14. Sum of n Positive Integers"
   ]
  },
  {
   "cell_type": "code",
   "execution_count": null,
   "metadata": {},
   "outputs": [],
   "source": [
    "#  Write a python program to sum of the first n positive integers"
   ]
  },
  {
   "cell_type": "code",
   "execution_count": 2,
   "metadata": {},
   "outputs": [
    {
     "name": "stdin",
     "output_type": "stream",
     "text": [
      "Enter a number to find its sum till positive nth number:  7\n"
     ]
    },
    {
     "name": "stdout",
     "output_type": "stream",
     "text": [
      "Sum of n Positive integers til 7 is 28\n"
     ]
    }
   ],
   "source": [
    "num = int(input(\"Enter a number to find its sum till positive nth number: \"))\n",
    "\n",
    "sum = 0\n",
    "for n in range(1,num+1):\n",
    "    sum = sum + n\n",
    "print(\"Sum of n Positive integers til\", num, \"is\", sum)"
   ]
  },
  {
   "cell_type": "markdown",
   "metadata": {},
   "source": [
    "# 15. Digits Sum of a Number"
   ]
  },
  {
   "cell_type": "code",
   "execution_count": 33,
   "metadata": {},
   "outputs": [],
   "source": [
    "# Write a Python program to calculate the sum of the digits in an integer"
   ]
  },
  {
   "cell_type": "code",
   "execution_count": 8,
   "metadata": {},
   "outputs": [
    {
     "name": "stdin",
     "output_type": "stream",
     "text": [
      "Enter a number:  67\n"
     ]
    },
    {
     "name": "stdout",
     "output_type": "stream",
     "text": [
      "6 + 7 + 13\n"
     ]
    }
   ],
   "source": [
    "num = input(\"Enter a number: \")\n",
    "num2 = num\n",
    "sum = 0\n",
    "for n in range(len(num2)):\n",
    "    sum = int(num[n]) + sum\n",
    "    print(num[n], end=\" + \")\n",
    "    \n",
    "print(sum)"
   ]
  },
  {
   "cell_type": "markdown",
   "metadata": {},
   "source": [
    "# 16. Decimal to Binary Converter"
   ]
  },
  {
   "cell_type": "code",
   "execution_count": 10,
   "metadata": {},
   "outputs": [],
   "source": [
    "# Write a Python program to convert an decimal integer to binary"
   ]
  },
  {
   "cell_type": "code",
   "execution_count": 14,
   "metadata": {},
   "outputs": [
    {
     "name": "stdin",
     "output_type": "stream",
     "text": [
      "Enter a Decimal number 10\n"
     ]
    },
    {
     "name": "stdout",
     "output_type": "stream",
     "text": [
      "1010"
     ]
    }
   ],
   "source": [
    "def decToBin(num):  # recursive function, which calls itself until it reaches a specific condition\n",
    "    if num > 1:\n",
    "        decToBin(num // 2)   #Built-in functions can also be used i.e \"print(bin(dec))\"\n",
    "    print(num % 2, end=\"\")\n",
    "\n",
    "dec = int(input(\"Enter a Decimal number\"))\n",
    "decToBin(dec)"
   ]
  },
